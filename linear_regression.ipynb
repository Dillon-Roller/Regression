{
 "cells": [
  {
   "cell_type": "markdown",
   "metadata": {},
   "source": [
    "## Linear Regression in plain Python\n",
    "\n",
    "In linear regression we want to model the relationship between a **scalar dependent variable** $y$ and one or more **independent (predictor) variables** $\\boldsymbol{x}$.\n",
    "\n",
    "**Given:** \n",
    "- dataset $\\{(\\boldsymbol{x}^{(1)}, y^{(1)}), ..., (\\boldsymbol{x}^{(m)}, y^{(m)})\\}$\n",
    "- with $\\boldsymbol{x}^{(i)}$ being a $d-$dimensional vector $\\boldsymbol{x}^i = (x^{(i)}_1, ..., x^{(i)}_d)$\n",
    "- $y^{(i)}$ being a scalar target variable\n",
    "\n",
    "The linear regression model can be interpreted as a very **simple neural network:**\n",
    "- it has a real-valued weight vector $\\boldsymbol{w}= (w^{(1)}, ..., w^{(d)})$\n",
    "- it has a real-valued bias $b$\n",
    "- it uses the identity function as its activation function\n",
    "\n",
    "![title](figures/linear_regression.jpg)"
   ]
  },
  {
   "cell_type": "markdown",
   "metadata": {},
   "source": [
    "### Training\n",
    "A linear regression model can be trained using either  \n",
    "a) gradient descent or  \n",
    "b) the normal equation (closed-form solution): $\\boldsymbol{w} = (\\boldsymbol{X}^T \\boldsymbol{X})^{-1} \\boldsymbol{X}^T \\boldsymbol{y}$ \n",
    "\n",
    "where $\\boldsymbol{X}$ is a matrix of shape $(m, n_{features})$ that holds all training examples.  \n",
    "The normal equation requires computing the inverse of $\\boldsymbol{X}^T \\boldsymbol{X}$. The computational complexity of this operation lies between $O(n_{features}^{2.4}$) and $O(n_{features}^3$) (depending on the implementation).\n",
    "Therefore, if the number of features in the training set is large, the normal equation will get very slow. \n",
    "\n",
    "* * *\n",
    "The training procedure of a linear regression model has different steps. In the beginning (step 0) the model parameters are initialized. The other steps (see below) are repeated for a specified number of training iterations or until the parameters have converged.\n",
    "\n",
    "**Step 0: ** \n",
    "\n",
    "Initialize the weight vector and bias with zeros (or small random values)\n",
    "\n",
    "**OR**\n",
    "\n",
    "Compute the parameters directly using the normal equation\n",
    "* * *\n",
    "\n",
    "**Step 1: ** (Only needed when training with gradient descent)\n",
    "\n",
    "Compute a linear combination of the input features and weights. This can be done in one step for all training examples, using vectorization and broadcasting:\n",
    "$\\boldsymbol{\\hat{y}} = \\boldsymbol{X} \\cdot \\boldsymbol{w} + b $\n",
    "\n",
    "where $\\boldsymbol{X}$ is a matrix of shape $(m, n_{features})$ that holds all training examples, and $\\cdot$ denotes the dot product.\n",
    "* * *\n",
    "\n",
    "**Step 2: ** (Only needed when training with gradient descent)\n",
    "\n",
    "Compute the cost (mean squared error) over the training set:\n",
    "\n",
    "$J(\\boldsymbol{w},b) = \\frac{1}{m} \\sum_{i=1}^m \\Big(\\hat{y}^{(i)} - y^{(i)} \\Big)^2$\n",
    "* * *\n",
    "\n",
    "**Step 3: **  (Only needed when training with gradient descent)\n",
    "\n",
    "Compute the partial derivatives of the cost function with respect to each parameter:\n",
    "\n",
    "$ \\frac{\\partial J}{\\partial w_j} = \\frac{2}{m}\\sum_{i=1}^m \\Big( \\hat{y}^{(i)} - y^{(i)} \\Big) x^{(i)}_j$\n",
    "\n",
    "$ \\frac{\\partial J}{\\partial b} = \\frac{2}{m}\\sum_{i=1}^m \\Big( \\hat{y}^{(i)} - y^{(i)} \\Big)$\n",
    "\n",
    "\n",
    "The gradient containing all partial derivatives can then be computed as follows: \n",
    "\n",
    "$\\nabla_{\\boldsymbol{w}} J = \\frac{2}{m} \\boldsymbol{X}^T \\cdot \\big(\\boldsymbol{\\hat{y}} - \\boldsymbol{y} \\big)$\n",
    "\n",
    "$\\nabla_{\\boldsymbol{b}} J = \\frac{2}{m} \\big(\\boldsymbol{\\hat{y}} - \\boldsymbol{y} \\big)$\n",
    "* * *\n",
    "\n",
    "**Step 4: ** (Only needed when training with gradient descent)\n",
    "\n",
    "Update the weight vector and bias:\n",
    "\n",
    "$\\boldsymbol{w} = \\boldsymbol{w} - \\eta \\, \\nabla_w J$  \n",
    "\n",
    "$b = b - \\eta \\, \\nabla_b J$  \n",
    "\n",
    "\n",
    "where $\\eta$ is the learning rate."
   ]
  },
  {
   "cell_type": "code",
   "execution_count": 1,
   "metadata": {
    "ExecuteTime": {
     "end_time": "2018-03-26T14:37:04.956748Z",
     "start_time": "2018-03-26T14:37:04.391421Z"
    }
   },
   "outputs": [],
   "source": [
    "import numpy as np\n",
    "import matplotlib.pyplot as plt\n",
    "from sklearn.model_selection import train_test_split\n",
    "\n",
    "np.random.seed(123)"
   ]
  },
  {
   "cell_type": "markdown",
   "metadata": {},
   "source": [
    "## Dataset"
   ]
  },
  {
   "cell_type": "code",
   "execution_count": 2,
   "metadata": {
    "ExecuteTime": {
     "end_time": "2018-03-26T14:37:06.048159Z",
     "start_time": "2018-03-26T14:37:05.749381Z"
    }
   },
   "outputs": [
    {
     "data": {
      "image/png": "[encoded data removed]",
      "text/plain": [
       "<Figure size 576x432 with 1 Axes>"
      ]
     },
     "metadata": {
      "needs_background": "light"
     },
     "output_type": "display_data"
    }
   ],
   "source": [
    "# We will use a simple training set\n",
    "X = 2 * np.random.rand(500, 1)\n",
    "y = 5 + 3 * X + np.random.randn(500, 1)\n",
    "\n",
    "fig = plt.figure(figsize=(8,6))\n",
    "plt.scatter(X, y)\n",
    "plt.title(\"Dataset\")\n",
    "plt.xlabel(\"First feature\")\n",
    "plt.ylabel(\"Second feature\")\n",
    "plt.show()"
   ]
  },
  {
   "cell_type": "code",
   "execution_count": 3,
   "metadata": {
    "ExecuteTime": {
     "end_time": "2018-03-26T14:37:06.920607Z",
     "start_time": "2018-03-26T14:37:06.906905Z"
    }
   },
   "outputs": [
    {
     "name": "stdout",
     "output_type": "stream",
     "text": [
      "Shape X_train: (375, 1)\n",
      "Shape y_train: (375, 1)\n",
      "Shape X_test: (125, 1)\n",
      "Shape y_test: (125, 1)\n"
     ]
    }
   ],
   "source": [
    "# Split the data into a training and test set\n",
    "X_train, X_test, y_train, y_test = train_test_split(X, y)\n",
    "\n",
    "print(f'Shape X_train: {X_train.shape}')\n",
    "print(f'Shape y_train: {y_train.shape}')\n",
    "print(f'Shape X_test: {X_test.shape}')\n",
    "print(f'Shape y_test: {y_test.shape}')"
   ]
  },
  {
   "cell_type": "markdown",
   "metadata": {},
   "source": [
    "## Linear regression class"
   ]
  },
  {
   "cell_type": "code",
   "execution_count": 4,
   "metadata": {
    "ExecuteTime": {
     "end_time": "2018-03-26T14:37:08.615318Z",
     "start_time": "2018-03-26T14:37:08.519693Z"
    }
   },
   "outputs": [],
   "source": [
    "class LinearRegression:\n",
    "    \n",
    "    def __init__(self):\n",
    "        pass\n",
    "\n",
    "    def train_gradient_descent(self, X, y, learning_rate=0.01, n_iters=100):\n",
    "        \"\"\"\n",
    "        Trains a linear regression model using gradient descent\n",
    "        \"\"\"\n",
    "        # Step 0: Initialize the parameters\n",
    "        n_samples, n_features = X.shape\n",
    "        self.weights = np.zeros(shape=(n_features,1))\n",
    "        self.bias = 0\n",
    "        costs = []\n",
    "\n",
    "        for i in range(n_iters):\n",
    "            # Step 1: Compute a linear combination of the input features and weights\n",
    "            y_predict = np.dot(X, self.weights) + self.bias\n",
    "\n",
    "            # Step 2: Compute cost over training set\n",
    "            cost = (1 / n_samples) * np.sum((y_predict - y)**2)\n",
    "            costs.append(cost)\n",
    "\n",
    "            if i % 100 == 0:\n",
    "                print(f\"Cost at iteration {i}: {cost}\")\n",
    "\n",
    "            # Step 3: Compute the gradients\n",
    "            dJ_dw = (2 / n_samples) * np.dot(X.T, y_predict - y)\n",
    "            dJ_db = (2 / n_samples) * np.sum(y_predict - y)\n",
    "            \n",
    "            # Step 4: Update the parameters\n",
    "            self.weights = self.weights - learning_rate * dJ_dw\n",
    "            self.bias = self.bias - learning_rate * dJ_db\n",
    "\n",
    "        return self.weights, self.bias, costs\n",
    "\n",
    "    def train_normal_equation(self, X, y):\n",
    "        \"\"\"\n",
    "        Trains a linear regression model using the normal equation\n",
    "        \"\"\"\n",
    "        self.weights = np.dot(np.dot(np.linalg.inv(np.dot(X.T, X)), X.T), y)\n",
    "        self.bias = 0\n",
    "        \n",
    "        return self.weights, self.bias\n",
    "\n",
    "    def predict(self, X):\n",
    "        return np.dot(X, self.weights) + self.bias"
   ]
  },
  {
   "cell_type": "markdown",
   "metadata": {},
   "source": [
    "## Training with gradient descent"
   ]
  },
  {
   "cell_type": "code",
   "execution_count": 5,
   "metadata": {
    "ExecuteTime": {
     "end_time": "2018-03-26T14:37:25.473465Z",
     "start_time": "2018-03-26T14:37:25.201638Z"
    }
   },
   "outputs": [
    {
     "name": "stdout",
     "output_type": "stream",
     "text": [
      "Cost at iteration 0: 66.45256981003433\n",
      "Cost at iteration 100: 2.208434614609594\n",
      "Cost at iteration 200: 1.2797812854182806\n",
      "Cost at iteration 300: 1.2042189195356685\n",
      "Cost at iteration 400: 1.1564867816573\n",
      "Cost at iteration 500: 1.121391041394467\n"
     ]
    },
    {
     "data": {
      "image/png": "[encoded data removed]",
      "text/plain": [
       "<Figure size 576x432 with 1 Axes>"
      ]
     },
     "metadata": {
      "needs_background": "light"
     },
     "output_type": "display_data"
    }
   ],
   "source": [
    "regressor = LinearRegression()\n",
    "w_trained, b_trained, costs = regressor.train_gradient_descent(X_train, y_train, learning_rate=0.005, n_iters=600)\n",
    "\n",
    "fig = plt.figure(figsize=(8,6))\n",
    "plt.plot(np.arange(600), costs)\n",
    "plt.title(\"Development of cost during training\")\n",
    "plt.xlabel(\"Number of iterations\")\n",
    "plt.ylabel(\"Cost\")\n",
    "plt.show()"
   ]
  },
  {
   "cell_type": "markdown",
   "metadata": {},
   "source": [
    "## Testing (gradient descent model)"
   ]
  },
  {
   "cell_type": "code",
   "execution_count": 6,
   "metadata": {
    "ExecuteTime": {
     "end_time": "2018-03-26T14:37:27.326617Z",
     "start_time": "2018-03-26T14:37:27.312972Z"
    }
   },
   "outputs": [
    {
     "name": "stdout",
     "output_type": "stream",
     "text": [
      "Error on training set: 1.0955\n",
      "Error on test set: 1.0\n"
     ]
    }
   ],
   "source": [
    "n_samples, _ = X_train.shape\n",
    "n_samples_test, _ = X_test.shape\n",
    "\n",
    "y_p_train = regressor.predict(X_train)\n",
    "y_p_test = regressor.predict(X_test)\n",
    "\n",
    "error_train =  (1 / n_samples) * np.sum((y_p_train - y_train) ** 2)\n",
    "error_test =  (1 / n_samples_test) * np.sum((y_p_test - y_test) ** 2)\n",
    "\n",
    "print(f\"Error on training set: {np.round(error_train, 4)}\")\n",
    "print(f\"Error on test set: {np.round(error_test)}\")"
   ]
  },
  {
   "cell_type": "markdown",
   "metadata": {
    "ExecuteTime": {
     "end_time": "2018-03-10T12:46:26.518968Z",
     "start_time": "2018-03-10T12:46:26.516036Z"
    }
   },
   "source": [
    "## Training with normal equation"
   ]
  },
  {
   "cell_type": "code",
   "execution_count": 7,
   "metadata": {
    "ExecuteTime": {
     "end_time": "2018-03-26T14:37:30.245175Z",
     "start_time": "2018-03-26T14:37:30.236084Z"
    }
   },
   "outputs": [],
   "source": [
    "# To compute the parameters using the normal equation, we add a bias value of 1 to each input example\n",
    "X_b_train = np.c_[np.ones((n_samples)), X_train]\n",
    "X_b_test = np.c_[np.ones((n_samples_test)), X_test]\n",
    "\n",
    "reg_normal = LinearRegression()\n",
    "w_trained = reg_normal.train_normal_equation(X_b_train, y_train)"
   ]
  },
  {
   "cell_type": "markdown",
   "metadata": {},
   "source": [
    "## Testing (normal equation model)"
   ]
  },
  {
   "cell_type": "code",
   "execution_count": 8,
   "metadata": {
    "ExecuteTime": {
     "end_time": "2018-03-26T14:37:32.088447Z",
     "start_time": "2018-03-26T14:37:32.077406Z"
    }
   },
   "outputs": [
    {
     "name": "stdout",
     "output_type": "stream",
     "text": [
      "Error on training set: 1.0228\n",
      "Error on test set: 1.0432\n"
     ]
    }
   ],
   "source": [
    "y_p_train = reg_normal.predict(X_b_train)\n",
    "y_p_test = reg_normal.predict(X_b_test)\n",
    "\n",
    "error_train =  (1 / n_samples) * np.sum((y_p_train - y_train) ** 2)\n",
    "error_test =  (1 / n_samples_test) * np.sum((y_p_test - y_test) ** 2)\n",
    "\n",
    "print(f\"Error on training set: {np.round(error_train, 4)}\")\n",
    "print(f\"Error on test set: {np.round(error_test, 4)}\")"
   ]
  },
  {
   "cell_type": "markdown",
   "metadata": {},
   "source": [
    "## Visualize test predictions"
   ]
  },
  {
   "cell_type": "code",
   "execution_count": 9,
   "metadata": {
    "ExecuteTime": {
     "end_time": "2018-03-26T14:38:03.737624Z",
     "start_time": "2018-03-26T14:38:03.447771Z"
    }
   },
   "outputs": [
    {
     "data": {
      "image/png": "[encoded data removed]",
      "text/plain": [
       "<Figure size 576x432 with 1 Axes>"
      ]
     },
     "metadata": {
      "needs_background": "light"
     },
     "output_type": "display_data"
    }
   ],
   "source": [
    "# Plot the test predictions\n",
    "\n",
    "fig = plt.figure(figsize=(8,6))\n",
    "plt.title(\"Dataset in blue, predictions for test set in orange\")\n",
    "plt.scatter(X_train, y_train)\n",
    "plt.scatter(X_test, y_p_test)\n",
    "plt.xlabel(\"First feature\")\n",
    "plt.ylabel(\"Second feature\")\n",
    "plt.show()"
   ]
  },
  {
   "cell_type": "code",
   "execution_count": null,
   "metadata": {},
   "outputs": [],
   "source": []
  },
  {
   "cell_type": "code",
   "execution_count": null,
   "metadata": {},
   "outputs": [],
   "source": []
  }
 ],
 "metadata": {
  "anaconda-cloud": {},
  "kernelspec": {
   "display_name": "Python 3",
   "language": "python",
   "name": "python3"
  },
  "language_info": {
   "codemirror_mode": {
    "name": "ipython",
    "version": 3
   },
   "file_extension": ".py",
   "mimetype": "text/x-python",
   "name": "python",
   "nbconvert_exporter": "python",
   "pygments_lexer": "ipython3",
   "version": "3.8.3"
  },
  "toc": {
   "nav_menu": {},
   "number_sections": true,
   "sideBar": true,
   "skip_h1_title": false,
   "title_cell": "Table of Contents",
   "title_sidebar": "Contents",
   "toc_cell": false,
   "toc_position": {},
   "toc_section_display": true,
   "toc_window_display": false
  }
 },
 "nbformat": 4,
 "nbformat_minor": 2
}
